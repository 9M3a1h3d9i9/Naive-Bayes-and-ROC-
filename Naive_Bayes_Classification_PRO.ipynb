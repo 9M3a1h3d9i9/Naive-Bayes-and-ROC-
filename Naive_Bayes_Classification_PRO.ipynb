{
  "nbformat": 4,
  "nbformat_minor": 0,
  "metadata": {
    "colab": {
      "provenance": [],
      "authorship_tag": "ABX9TyNsa+xUtIvDE+iisSzp3QdQ",
      "include_colab_link": true
    },
    "kernelspec": {
      "name": "python3",
      "display_name": "Python 3"
    },
    "language_info": {
      "name": "python"
    }
  },
  "cells": [
    {
      "cell_type": "markdown",
      "metadata": {
        "id": "view-in-github",
        "colab_type": "text"
      },
      "source": [
        "<a href=\"https://colab.research.google.com/github/9M3a1h3d9i9/Naive-Bayes-and-ROC-/blob/main/Naive_Bayes_Classification_PRO.ipynb\" target=\"_parent\"><img src=\"https://colab.research.google.com/assets/colab-badge.svg\" alt=\"Open In Colab\"/></a>"
      ]
    },
    {
      "cell_type": "markdown",
      "source": [
        "# In the name of GOD\n",
        "\n",
        "# Mohammad Mahdi Shafighy\n",
        "\n",
        "# 1403.09\n",
        "\n",
        "# Shahed University"
      ],
      "metadata": {
        "id": "nZOLeCub4Kri"
      }
    },
    {
      "cell_type": "code",
      "source": [
        "import pandas as pd\n",
        "import numpy as np\n",
        "\n",
        "# df = pd.read_csv(\"/content/sick.csv\")\n",
        "df = pd.read_csv(\"/content/synthetic_patient_data.csv\")\n",
        "\n",
        "\n",
        "# df.head(10)\n",
        "df.tail(10)"
      ],
      "metadata": {
        "colab": {
          "base_uri": "https://localhost:8080/",
          "height": 363
        },
        "id": "UxZ6z4uM4kfz",
        "outputId": "f98a7625-8b7c-4a99-c153-1e3edcf1a037"
      },
      "execution_count": 134,
      "outputs": [
        {
          "output_type": "execute_result",
          "data": {
            "text/plain": [
              "        Patient  Fever  Cough  Fatigue  Body Pain Class\n",
              "999990  P999990      1      1        0          0  Sick\n",
              "999991  P999991      1      0        0          0  Sick\n",
              "999992  P999992      1      1        1          1  Sick\n",
              "999993  P999993      1      1        1          0  Sick\n",
              "999994  P999994      1      0        1          1  Sick\n",
              "999995  P999995      0      1        1          1  Sick\n",
              "999996  P999996      1      0        1          1  Sick\n",
              "999997  P999997      0      0        1          1  Sick\n",
              "999998  P999998      1      1        1          1  Sick\n",
              "999999  P999999      1      0        0          1  Sick"
            ],
            "text/html": [
              "\n",
              "  <div id=\"df-b045d93e-ba2b-42b0-a01d-dce4f39817d0\" class=\"colab-df-container\">\n",
              "    <div>\n",
              "<style scoped>\n",
              "    .dataframe tbody tr th:only-of-type {\n",
              "        vertical-align: middle;\n",
              "    }\n",
              "\n",
              "    .dataframe tbody tr th {\n",
              "        vertical-align: top;\n",
              "    }\n",
              "\n",
              "    .dataframe thead th {\n",
              "        text-align: right;\n",
              "    }\n",
              "</style>\n",
              "<table border=\"1\" class=\"dataframe\">\n",
              "  <thead>\n",
              "    <tr style=\"text-align: right;\">\n",
              "      <th></th>\n",
              "      <th>Patient</th>\n",
              "      <th>Fever</th>\n",
              "      <th>Cough</th>\n",
              "      <th>Fatigue</th>\n",
              "      <th>Body Pain</th>\n",
              "      <th>Class</th>\n",
              "    </tr>\n",
              "  </thead>\n",
              "  <tbody>\n",
              "    <tr>\n",
              "      <th>999990</th>\n",
              "      <td>P999990</td>\n",
              "      <td>1</td>\n",
              "      <td>1</td>\n",
              "      <td>0</td>\n",
              "      <td>0</td>\n",
              "      <td>Sick</td>\n",
              "    </tr>\n",
              "    <tr>\n",
              "      <th>999991</th>\n",
              "      <td>P999991</td>\n",
              "      <td>1</td>\n",
              "      <td>0</td>\n",
              "      <td>0</td>\n",
              "      <td>0</td>\n",
              "      <td>Sick</td>\n",
              "    </tr>\n",
              "    <tr>\n",
              "      <th>999992</th>\n",
              "      <td>P999992</td>\n",
              "      <td>1</td>\n",
              "      <td>1</td>\n",
              "      <td>1</td>\n",
              "      <td>1</td>\n",
              "      <td>Sick</td>\n",
              "    </tr>\n",
              "    <tr>\n",
              "      <th>999993</th>\n",
              "      <td>P999993</td>\n",
              "      <td>1</td>\n",
              "      <td>1</td>\n",
              "      <td>1</td>\n",
              "      <td>0</td>\n",
              "      <td>Sick</td>\n",
              "    </tr>\n",
              "    <tr>\n",
              "      <th>999994</th>\n",
              "      <td>P999994</td>\n",
              "      <td>1</td>\n",
              "      <td>0</td>\n",
              "      <td>1</td>\n",
              "      <td>1</td>\n",
              "      <td>Sick</td>\n",
              "    </tr>\n",
              "    <tr>\n",
              "      <th>999995</th>\n",
              "      <td>P999995</td>\n",
              "      <td>0</td>\n",
              "      <td>1</td>\n",
              "      <td>1</td>\n",
              "      <td>1</td>\n",
              "      <td>Sick</td>\n",
              "    </tr>\n",
              "    <tr>\n",
              "      <th>999996</th>\n",
              "      <td>P999996</td>\n",
              "      <td>1</td>\n",
              "      <td>0</td>\n",
              "      <td>1</td>\n",
              "      <td>1</td>\n",
              "      <td>Sick</td>\n",
              "    </tr>\n",
              "    <tr>\n",
              "      <th>999997</th>\n",
              "      <td>P999997</td>\n",
              "      <td>0</td>\n",
              "      <td>0</td>\n",
              "      <td>1</td>\n",
              "      <td>1</td>\n",
              "      <td>Sick</td>\n",
              "    </tr>\n",
              "    <tr>\n",
              "      <th>999998</th>\n",
              "      <td>P999998</td>\n",
              "      <td>1</td>\n",
              "      <td>1</td>\n",
              "      <td>1</td>\n",
              "      <td>1</td>\n",
              "      <td>Sick</td>\n",
              "    </tr>\n",
              "    <tr>\n",
              "      <th>999999</th>\n",
              "      <td>P999999</td>\n",
              "      <td>1</td>\n",
              "      <td>0</td>\n",
              "      <td>0</td>\n",
              "      <td>1</td>\n",
              "      <td>Sick</td>\n",
              "    </tr>\n",
              "  </tbody>\n",
              "</table>\n",
              "</div>\n",
              "    <div class=\"colab-df-buttons\">\n",
              "\n",
              "  <div class=\"colab-df-container\">\n",
              "    <button class=\"colab-df-convert\" onclick=\"convertToInteractive('df-b045d93e-ba2b-42b0-a01d-dce4f39817d0')\"\n",
              "            title=\"Convert this dataframe to an interactive table.\"\n",
              "            style=\"display:none;\">\n",
              "\n",
              "  <svg xmlns=\"http://www.w3.org/2000/svg\" height=\"24px\" viewBox=\"0 -960 960 960\">\n",
              "    <path d=\"M120-120v-720h720v720H120Zm60-500h600v-160H180v160Zm220 220h160v-160H400v160Zm0 220h160v-160H400v160ZM180-400h160v-160H180v160Zm440 0h160v-160H620v160ZM180-180h160v-160H180v160Zm440 0h160v-160H620v160Z\"/>\n",
              "  </svg>\n",
              "    </button>\n",
              "\n",
              "  <style>\n",
              "    .colab-df-container {\n",
              "      display:flex;\n",
              "      gap: 12px;\n",
              "    }\n",
              "\n",
              "    .colab-df-convert {\n",
              "      background-color: #E8F0FE;\n",
              "      border: none;\n",
              "      border-radius: 50%;\n",
              "      cursor: pointer;\n",
              "      display: none;\n",
              "      fill: #1967D2;\n",
              "      height: 32px;\n",
              "      padding: 0 0 0 0;\n",
              "      width: 32px;\n",
              "    }\n",
              "\n",
              "    .colab-df-convert:hover {\n",
              "      background-color: #E2EBFA;\n",
              "      box-shadow: 0px 1px 2px rgba(60, 64, 67, 0.3), 0px 1px 3px 1px rgba(60, 64, 67, 0.15);\n",
              "      fill: #174EA6;\n",
              "    }\n",
              "\n",
              "    .colab-df-buttons div {\n",
              "      margin-bottom: 4px;\n",
              "    }\n",
              "\n",
              "    [theme=dark] .colab-df-convert {\n",
              "      background-color: #3B4455;\n",
              "      fill: #D2E3FC;\n",
              "    }\n",
              "\n",
              "    [theme=dark] .colab-df-convert:hover {\n",
              "      background-color: #434B5C;\n",
              "      box-shadow: 0px 1px 3px 1px rgba(0, 0, 0, 0.15);\n",
              "      filter: drop-shadow(0px 1px 2px rgba(0, 0, 0, 0.3));\n",
              "      fill: #FFFFFF;\n",
              "    }\n",
              "  </style>\n",
              "\n",
              "    <script>\n",
              "      const buttonEl =\n",
              "        document.querySelector('#df-b045d93e-ba2b-42b0-a01d-dce4f39817d0 button.colab-df-convert');\n",
              "      buttonEl.style.display =\n",
              "        google.colab.kernel.accessAllowed ? 'block' : 'none';\n",
              "\n",
              "      async function convertToInteractive(key) {\n",
              "        const element = document.querySelector('#df-b045d93e-ba2b-42b0-a01d-dce4f39817d0');\n",
              "        const dataTable =\n",
              "          await google.colab.kernel.invokeFunction('convertToInteractive',\n",
              "                                                    [key], {});\n",
              "        if (!dataTable) return;\n",
              "\n",
              "        const docLinkHtml = 'Like what you see? Visit the ' +\n",
              "          '<a target=\"_blank\" href=https://colab.research.google.com/notebooks/data_table.ipynb>data table notebook</a>'\n",
              "          + ' to learn more about interactive tables.';\n",
              "        element.innerHTML = '';\n",
              "        dataTable['output_type'] = 'display_data';\n",
              "        await google.colab.output.renderOutput(dataTable, element);\n",
              "        const docLink = document.createElement('div');\n",
              "        docLink.innerHTML = docLinkHtml;\n",
              "        element.appendChild(docLink);\n",
              "      }\n",
              "    </script>\n",
              "  </div>\n",
              "\n",
              "\n",
              "<div id=\"df-0d54cb05-93f8-4d6b-baf2-a987d2e43b4f\">\n",
              "  <button class=\"colab-df-quickchart\" onclick=\"quickchart('df-0d54cb05-93f8-4d6b-baf2-a987d2e43b4f')\"\n",
              "            title=\"Suggest charts\"\n",
              "            style=\"display:none;\">\n",
              "\n",
              "<svg xmlns=\"http://www.w3.org/2000/svg\" height=\"24px\"viewBox=\"0 0 24 24\"\n",
              "     width=\"24px\">\n",
              "    <g>\n",
              "        <path d=\"M19 3H5c-1.1 0-2 .9-2 2v14c0 1.1.9 2 2 2h14c1.1 0 2-.9 2-2V5c0-1.1-.9-2-2-2zM9 17H7v-7h2v7zm4 0h-2V7h2v10zm4 0h-2v-4h2v4z\"/>\n",
              "    </g>\n",
              "</svg>\n",
              "  </button>\n",
              "\n",
              "<style>\n",
              "  .colab-df-quickchart {\n",
              "      --bg-color: #E8F0FE;\n",
              "      --fill-color: #1967D2;\n",
              "      --hover-bg-color: #E2EBFA;\n",
              "      --hover-fill-color: #174EA6;\n",
              "      --disabled-fill-color: #AAA;\n",
              "      --disabled-bg-color: #DDD;\n",
              "  }\n",
              "\n",
              "  [theme=dark] .colab-df-quickchart {\n",
              "      --bg-color: #3B4455;\n",
              "      --fill-color: #D2E3FC;\n",
              "      --hover-bg-color: #434B5C;\n",
              "      --hover-fill-color: #FFFFFF;\n",
              "      --disabled-bg-color: #3B4455;\n",
              "      --disabled-fill-color: #666;\n",
              "  }\n",
              "\n",
              "  .colab-df-quickchart {\n",
              "    background-color: var(--bg-color);\n",
              "    border: none;\n",
              "    border-radius: 50%;\n",
              "    cursor: pointer;\n",
              "    display: none;\n",
              "    fill: var(--fill-color);\n",
              "    height: 32px;\n",
              "    padding: 0;\n",
              "    width: 32px;\n",
              "  }\n",
              "\n",
              "  .colab-df-quickchart:hover {\n",
              "    background-color: var(--hover-bg-color);\n",
              "    box-shadow: 0 1px 2px rgba(60, 64, 67, 0.3), 0 1px 3px 1px rgba(60, 64, 67, 0.15);\n",
              "    fill: var(--button-hover-fill-color);\n",
              "  }\n",
              "\n",
              "  .colab-df-quickchart-complete:disabled,\n",
              "  .colab-df-quickchart-complete:disabled:hover {\n",
              "    background-color: var(--disabled-bg-color);\n",
              "    fill: var(--disabled-fill-color);\n",
              "    box-shadow: none;\n",
              "  }\n",
              "\n",
              "  .colab-df-spinner {\n",
              "    border: 2px solid var(--fill-color);\n",
              "    border-color: transparent;\n",
              "    border-bottom-color: var(--fill-color);\n",
              "    animation:\n",
              "      spin 1s steps(1) infinite;\n",
              "  }\n",
              "\n",
              "  @keyframes spin {\n",
              "    0% {\n",
              "      border-color: transparent;\n",
              "      border-bottom-color: var(--fill-color);\n",
              "      border-left-color: var(--fill-color);\n",
              "    }\n",
              "    20% {\n",
              "      border-color: transparent;\n",
              "      border-left-color: var(--fill-color);\n",
              "      border-top-color: var(--fill-color);\n",
              "    }\n",
              "    30% {\n",
              "      border-color: transparent;\n",
              "      border-left-color: var(--fill-color);\n",
              "      border-top-color: var(--fill-color);\n",
              "      border-right-color: var(--fill-color);\n",
              "    }\n",
              "    40% {\n",
              "      border-color: transparent;\n",
              "      border-right-color: var(--fill-color);\n",
              "      border-top-color: var(--fill-color);\n",
              "    }\n",
              "    60% {\n",
              "      border-color: transparent;\n",
              "      border-right-color: var(--fill-color);\n",
              "    }\n",
              "    80% {\n",
              "      border-color: transparent;\n",
              "      border-right-color: var(--fill-color);\n",
              "      border-bottom-color: var(--fill-color);\n",
              "    }\n",
              "    90% {\n",
              "      border-color: transparent;\n",
              "      border-bottom-color: var(--fill-color);\n",
              "    }\n",
              "  }\n",
              "</style>\n",
              "\n",
              "  <script>\n",
              "    async function quickchart(key) {\n",
              "      const quickchartButtonEl =\n",
              "        document.querySelector('#' + key + ' button');\n",
              "      quickchartButtonEl.disabled = true;  // To prevent multiple clicks.\n",
              "      quickchartButtonEl.classList.add('colab-df-spinner');\n",
              "      try {\n",
              "        const charts = await google.colab.kernel.invokeFunction(\n",
              "            'suggestCharts', [key], {});\n",
              "      } catch (error) {\n",
              "        console.error('Error during call to suggestCharts:', error);\n",
              "      }\n",
              "      quickchartButtonEl.classList.remove('colab-df-spinner');\n",
              "      quickchartButtonEl.classList.add('colab-df-quickchart-complete');\n",
              "    }\n",
              "    (() => {\n",
              "      let quickchartButtonEl =\n",
              "        document.querySelector('#df-0d54cb05-93f8-4d6b-baf2-a987d2e43b4f button');\n",
              "      quickchartButtonEl.style.display =\n",
              "        google.colab.kernel.accessAllowed ? 'block' : 'none';\n",
              "    })();\n",
              "  </script>\n",
              "</div>\n",
              "\n",
              "    </div>\n",
              "  </div>\n"
            ],
            "application/vnd.google.colaboratory.intrinsic+json": {
              "type": "dataframe",
              "summary": "{\n  \"name\": \"df\",\n  \"rows\": 10,\n  \"fields\": [\n    {\n      \"column\": \"Patient\",\n      \"properties\": {\n        \"dtype\": \"string\",\n        \"num_unique_values\": 10,\n        \"samples\": [\n          \"P999998\",\n          \"P999991\",\n          \"P999995\"\n        ],\n        \"semantic_type\": \"\",\n        \"description\": \"\"\n      }\n    },\n    {\n      \"column\": \"Fever\",\n      \"properties\": {\n        \"dtype\": \"number\",\n        \"std\": 0,\n        \"min\": 0,\n        \"max\": 1,\n        \"num_unique_values\": 2,\n        \"samples\": [\n          0,\n          1\n        ],\n        \"semantic_type\": \"\",\n        \"description\": \"\"\n      }\n    },\n    {\n      \"column\": \"Cough\",\n      \"properties\": {\n        \"dtype\": \"number\",\n        \"std\": 0,\n        \"min\": 0,\n        \"max\": 1,\n        \"num_unique_values\": 2,\n        \"samples\": [\n          0,\n          1\n        ],\n        \"semantic_type\": \"\",\n        \"description\": \"\"\n      }\n    },\n    {\n      \"column\": \"Fatigue\",\n      \"properties\": {\n        \"dtype\": \"number\",\n        \"std\": 0,\n        \"min\": 0,\n        \"max\": 1,\n        \"num_unique_values\": 2,\n        \"samples\": [\n          1,\n          0\n        ],\n        \"semantic_type\": \"\",\n        \"description\": \"\"\n      }\n    },\n    {\n      \"column\": \"Body Pain\",\n      \"properties\": {\n        \"dtype\": \"number\",\n        \"std\": 0,\n        \"min\": 0,\n        \"max\": 1,\n        \"num_unique_values\": 2,\n        \"samples\": [\n          1,\n          0\n        ],\n        \"semantic_type\": \"\",\n        \"description\": \"\"\n      }\n    },\n    {\n      \"column\": \"Class\",\n      \"properties\": {\n        \"dtype\": \"category\",\n        \"num_unique_values\": 1,\n        \"samples\": [\n          \"Sick\"\n        ],\n        \"semantic_type\": \"\",\n        \"description\": \"\"\n      }\n    }\n  ]\n}"
            }
          },
          "metadata": {},
          "execution_count": 134
        }
      ]
    },
    {
      "cell_type": "code",
      "source": [
        "# df.describe()\n",
        "df.shape"
      ],
      "metadata": {
        "colab": {
          "base_uri": "https://localhost:8080/"
        },
        "id": "EkklcXb210y7",
        "outputId": "8d3206ff-d153-4622-c8a9-3d273e364cd1"
      },
      "execution_count": 135,
      "outputs": [
        {
          "output_type": "execute_result",
          "data": {
            "text/plain": [
              "(1000000, 6)"
            ]
          },
          "metadata": {},
          "execution_count": 135
        }
      ]
    },
    {
      "cell_type": "markdown",
      "source": [
        "# 1. Calculate Prior Probabilities (Results)"
      ],
      "metadata": {
        "id": "A5HxoNzW4J4u"
      }
    },
    {
      "cell_type": "code",
      "execution_count": 136,
      "metadata": {
        "colab": {
          "base_uri": "https://localhost:8080/"
        },
        "id": "uqEQybw_WMK9",
        "outputId": "617a7f6f-b7ac-43ff-ef6b-98d0a9dd12c7"
      },
      "outputs": [
        {
          "output_type": "execute_result",
          "data": {
            "text/plain": [
              "(0.04, 0.96)"
            ]
          },
          "metadata": {},
          "execution_count": 136
        }
      ],
      "source": [
        "total_patients = len(df)\n",
        "# print(len(df))\n",
        "sick_count = len(df[df['Class'] == 'Sick'])\n",
        "# print(sick_count)\n",
        "healthy_count = len(df[df['Class'] == 'Healthy'])\n",
        "# print(healthy_count)\n",
        "\n",
        "P_sick = sick_count / total_patients\n",
        "P_healthy = healthy_count / total_patients\n",
        "\n",
        "P_sick, P_healthy\n"
      ]
    },
    {
      "cell_type": "markdown",
      "source": [
        "# 2. we will calculate the likelihoods for each feature (Fever, Cough, Fatigue, Body Pain) for both classes (Sick and Healthy)"
      ],
      "metadata": {
        "id": "qh5a9N6Z5iQi"
      }
    },
    {
      "cell_type": "code",
      "source": [
        "features = ['Fever', 'Cough', 'Fatigue', 'Body Pain']\n",
        "\n",
        "likelihood_sick = {}\n",
        "likelihood_healthy = {}\n",
        "\n",
        "for feature in features:\n",
        "    #Sick\n",
        "    feature_given_sick = df[df['Class'] == 'Sick'][feature].sum()\n",
        "    # print(feature_given_sick)\n",
        "    likelihood_sick[feature] = (feature_given_sick + 1) / (sick_count + 2)\n",
        "    # print(likelihood_sick)\n",
        "\n",
        "    #Healthy\n",
        "    feature_given_healthy = df[df['Class'] == 'Healthy'][feature].sum()\n",
        "    # print(feature_given_healthy)\n",
        "    likelihood_healthy[feature] = (feature_given_healthy + 1) / (healthy_count + 2)\n",
        "    # print(likelihood_healthy)\n",
        "likelihood_sick, likelihood_healthy\n"
      ],
      "metadata": {
        "colab": {
          "base_uri": "https://localhost:8080/"
        },
        "id": "XpZ62oh04JM7",
        "outputId": "66d19755-04b4-46c2-aea1-3eedb0388526"
      },
      "execution_count": 137,
      "outputs": [
        {
          "output_type": "execute_result",
          "data": {
            "text/plain": [
              "({'Fever': 0.7997850107494625,\n",
              "  'Cough': 0.6962901854907254,\n",
              "  'Fatigue': 0.599870006499675,\n",
              "  'Body Pain': 0.8974301284935753},\n",
              " {'Fever': 0.10013312472265683,\n",
              "  'Cough': 0.2007099985208364,\n",
              "  'Fatigue': 0.2996129174730886,\n",
              "  'Body Pain': 0.05012802056662382})"
            ]
          },
          "metadata": {},
          "execution_count": 137
        }
      ]
    },
    {
      "cell_type": "markdown",
      "source": [
        "# 3. Calculate posterior probabilities\n",
        "# likelihood Func (consider : features present in the patient)"
      ],
      "metadata": {
        "id": "WNHaKjmbtZix"
      }
    },
    {
      "cell_type": "code",
      "source": [
        "def posterior_probability(features, prior_sick, prior_healthy, likelihood_sick, likelihood_healthy):\n",
        "  P_sick_given_features = prior_sick\n",
        "  P_healthy_given_features = prior_healthy\n",
        "\n",
        "  for feature, value in features.items():\n",
        "    if value == 1:\n",
        "      P_sick_given_features *= likelihood_sick[feature]\n",
        "      P_healthy_given_features *= likelihood_healthy[feature]\n",
        "\n",
        "  # Calculate P(Features) using the law of total probability\n",
        "  P_features = (P_sick_given_features + P_healthy_given_features)\n",
        "\n",
        "  P_sick_given_features /= P_features\n",
        "  P_healthy_given_features /= P_features\n",
        "\n",
        "  return P_sick_given_features, P_healthy_given_features"
      ],
      "metadata": {
        "id": "TUVpzpqctJ1h"
      },
      "execution_count": 138,
      "outputs": []
    },
    {
      "cell_type": "markdown",
      "source": [
        "# Now let's calculate the probability of illness if she has a fever?\n",
        "# P(Sick | fever) = ?"
      ],
      "metadata": {
        "id": "-YxgWk7ltoh1"
      }
    },
    {
      "cell_type": "code",
      "source": [
        "new_patient = {'Fever': 1, 'Cough': 0, 'Fatigue': 0, 'Body Pain': 1}"
      ],
      "metadata": {
        "id": "LfIUFIT1to6x"
      },
      "execution_count": 142,
      "outputs": []
    },
    {
      "cell_type": "markdown",
      "source": [
        "# Only consider features present in the patient"
      ],
      "metadata": {
        "id": "Q8WPpp02vmZC"
      }
    },
    {
      "cell_type": "code",
      "source": [
        "posterior_sick, posterior_healthy = posterior_probability(\n",
        "    new_patient,\n",
        "    P_sick,\n",
        "    P_healthy,\n",
        "    likelihood_sick,\n",
        "    likelihood_healthy\n",
        ")\n",
        "\n",
        "print(f\"Posterior Probability of Sick: {posterior_sick:.4f}\")\n",
        "print(f\"Posterior Probability of Healthy: {posterior_healthy:.4f}\")"
      ],
      "metadata": {
        "id": "5e-dmM8Qx3EW",
        "colab": {
          "base_uri": "https://localhost:8080/"
        },
        "outputId": "f2775bb9-9f72-414d-9d60-54efc50dd0c3"
      },
      "execution_count": 143,
      "outputs": [
        {
          "output_type": "stream",
          "name": "stdout",
          "text": [
            "Posterior Probability of Sick: 0.8563\n",
            "Posterior Probability of Healthy: 0.1437\n"
          ]
        }
      ]
    },
    {
      "cell_type": "markdown",
      "source": [
        "# Classification\n"
      ],
      "metadata": {
        "id": "L8-LXBD0yuYL"
      }
    },
    {
      "cell_type": "code",
      "source": [
        "classification = \"Sick\" if posterior_sick > posterior_healthy else \"Healthy\"\n",
        "print(f\"Classification: {classification}\")"
      ],
      "metadata": {
        "colab": {
          "base_uri": "https://localhost:8080/"
        },
        "id": "oxzqHKW_ytSJ",
        "outputId": "45ecdc23-813b-49b9-8a3d-bbd091da0382"
      },
      "execution_count": 144,
      "outputs": [
        {
          "output_type": "stream",
          "name": "stdout",
          "text": [
            "Classification: Sick\n"
          ]
        }
      ]
    },
    {
      "cell_type": "markdown",
      "source": [
        "# ROC curve\n"
      ],
      "metadata": {
        "id": "YVO81sWTA8wK"
      }
    },
    {
      "cell_type": "markdown",
      "source": [
        "## Assuming you have true labels (y_true) and predicted probabilities (y_scores)\n",
        "## Replace these with your actual data"
      ],
      "metadata": {
        "id": "zd4v44MMBF6p"
      }
    },
    {
      "cell_type": "code",
      "source": [
        "import matplotlib.pyplot as plt\n",
        "from sklearn.metrics import roc_curve, auc"
      ],
      "metadata": {
        "id": "bB1prWDTA-tw"
      },
      "execution_count": 153,
      "outputs": []
    },
    {
      "cell_type": "code",
      "source": [
        "y_true = df['Class'].map({'Sick': 1, 'Healthy': 0}).values  # Convert class labels to numerical (0 or 1)\n",
        "y_scores = []\n",
        "for index, row in df.iterrows():\n",
        "    new_patient = {'Fever': row['Fever'], 'Cough': row['Cough'], 'Fatigue': row['Fatigue'], 'Body Pain': row['Body Pain']}\n",
        "    posterior_sick, _ = posterior_probability(\n",
        "        new_patient,\n",
        "        P_sick,\n",
        "        P_healthy,\n",
        "        likelihood_sick,\n",
        "        likelihood_healthy\n",
        "    )\n",
        "    y_scores.append(posterior_sick)"
      ],
      "metadata": {
        "id": "JkXgr4LSBM7q"
      },
      "execution_count": 147,
      "outputs": []
    },
    {
      "cell_type": "markdown",
      "source": [
        "# Compute ROC curve and ROC area\n"
      ],
      "metadata": {
        "id": "3CuGO7KCBP8a"
      }
    },
    {
      "cell_type": "code",
      "source": [
        "fpr, tpr, thresholds = roc_curve(y_true, y_scores)\n",
        "roc_auc = auc(fpr, tpr)"
      ],
      "metadata": {
        "id": "3N_4fo1nBR0Z"
      },
      "execution_count": 148,
      "outputs": []
    },
    {
      "cell_type": "markdown",
      "source": [
        "# Plot ROC curve\n"
      ],
      "metadata": {
        "id": "vBrN7mkABTXB"
      }
    },
    {
      "cell_type": "code",
      "source": [
        "plt.figure()\n",
        "lw = 2\n",
        "plt.plot(fpr, tpr, color='darkorange',\n",
        "         lw=lw, label='ROC curve (area = %0.2f)' % roc_auc)\n",
        "plt.plot([0, 1], [0, 1], color='navy', lw=lw, linestyle='--')\n",
        "plt.xlim([0.0, 1.0])\n",
        "plt.ylim([0.0, 1.05])\n",
        "plt.xlabel('False Positive Rate')\n",
        "plt.ylabel('True Positive Rate')\n",
        "plt.title('Receiver operating characteristic example')\n",
        "plt.legend(loc=\"lower right\")\n",
        "plt.show()"
      ],
      "metadata": {
        "colab": {
          "base_uri": "https://localhost:8080/",
          "height": 472
        },
        "id": "ZDhbHh7tBVg5",
        "outputId": "0293f661-1f2d-472e-a0ae-b0dc0d378ddb"
      },
      "execution_count": 149,
      "outputs": [
        {
          "output_type": "display_data",
          "data": {
            "text/plain": [
              "<Figure size 640x480 with 1 Axes>"
            ],
            "image/png": "[encoded data removed]"
          },
          "metadata": {}
        }
      ]
    },
    {
      "cell_type": "markdown",
      "source": [
        "# prompt: Precition / recall cuve\n"
      ],
      "metadata": {
        "id": "ATUU3YSdBjXp"
      }
    },
    {
      "cell_type": "code",
      "source": [
        "from sklearn.metrics import precision_recall_curve\n",
        "from sklearn.metrics import average_precision_score"
      ],
      "metadata": {
        "id": "oGw8SDNmB4io"
      },
      "execution_count": 154,
      "outputs": []
    },
    {
      "cell_type": "markdown",
      "source": [
        "## Calculate precision and recall\n"
      ],
      "metadata": {
        "id": "HVFZ_jMPBmhb"
      }
    },
    {
      "cell_type": "code",
      "source": [
        "precision, recall, thresholds = precision_recall_curve(y_true, y_scores)\n"
      ],
      "metadata": {
        "id": "0mrlnRVRBpCu"
      },
      "execution_count": 155,
      "outputs": []
    },
    {
      "cell_type": "markdown",
      "source": [
        "# Calculate average precision score\n"
      ],
      "metadata": {
        "id": "dYRVjM78Br1E"
      }
    },
    {
      "cell_type": "code",
      "source": [
        "average_precision = average_precision_score(y_true, y_scores)\n"
      ],
      "metadata": {
        "id": "rwmqLYKbBtGy"
      },
      "execution_count": 156,
      "outputs": []
    },
    {
      "cell_type": "markdown",
      "source": [
        "# Plot the precision-recall curve\n"
      ],
      "metadata": {
        "id": "inDFVclOBuj7"
      }
    },
    {
      "cell_type": "code",
      "source": [
        "plt.figure()\n",
        "plt.step(recall, precision, color='b', alpha=0.2,\n",
        "         where='post')\n",
        "plt.fill_between(recall, precision, step='post', alpha=0.2,\n",
        "                 color='b')\n",
        "\n",
        "plt.xlabel('Recall')\n",
        "plt.ylabel('Precision')\n",
        "plt.ylim([0.0, 1.05])\n",
        "plt.xlim([0.0, 1.0])\n",
        "plt.title('2-class Precision-Recall curve: AP={0:0.2f}'.format(\n",
        "          average_precision))\n",
        "plt.show()"
      ],
      "metadata": {
        "colab": {
          "base_uri": "https://localhost:8080/",
          "height": 472
        },
        "id": "7W310YkEBwhA",
        "outputId": "ab9b8c70-a41d-4fdb-c405-f173c62be0e1"
      },
      "execution_count": 157,
      "outputs": [
        {
          "output_type": "display_data",
          "data": {
            "text/plain": [
              "<Figure size 640x480 with 1 Axes>"
            ],
            "image/png": "[encoded data removed]"
          },
          "metadata": {}
        }
      ]
    }
  ]
}